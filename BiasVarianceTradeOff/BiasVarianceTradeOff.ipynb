{
 "cells": [
  {
   "attachments": {},
   "cell_type": "markdown",
   "metadata": {},
   "source": [
    "### What is Bias Variance Trade Off？\n",
    "\n",
    "1. It is a fundamental topic of understanding your model's performance.\n",
    "\n",
    "2. The bias variance trade off is the point where we are adding just noise by adding model complexity(flexibility).\n",
    "\n",
    "3. The training errors goes down as it has to, but the test error is starting to go up\n",
    "___\n",
    "### Type of Bias Variance Trade Off\n",
    "\n",
    "Imagine we can repeat our entire model building process to get a number of separate hits on the targer(bullseye)\n",
    "\n",
    "Type 1. low bias low variance：\n",
    "    \n",
    "    The model will predict correct.\n",
    "    \n",
    "Type 2. low bias high variance：\n",
    "\n",
    "    The model will predicts values around the bullseye but with a high degree of variance.\n",
    "    \n",
    "Type 3. high bias low variance：\n",
    "\n",
    "    The model in that lower quadrant will have a high bias to a certain location,all your model predictions are in a certain area.\n",
    "    \n",
    "Type 4. high bias high variance：\n",
    "    \n",
    "    The worst means just all over the place.\n",
    "___\n",
    "### Bias Variance Trade Off condition\n",
    "\n",
    "A common temptation for beginners is to continually add complexity to a model until it fits the training set very well.\n",
    "\n",
    "Use the training data,maybe have some error,so just make the model more more and more complex or flexible so that the line can hits all those training points.\n",
    "\n",
    "On this circumstance this model is going to fail to predict for new test points, so need to split the train and test data.\n",
    "\n",
    "If doing that can cause a model to overfit to training data and cause large errors on new data.\n",
    "\n",
    "It has to find the point that can balance bias and variance."
   ]
  },
  {
   "cell_type": "code",
   "execution_count": null,
   "metadata": {},
   "outputs": [],
   "source": []
  }
 ],
 "metadata": {
  "kernelspec": {
   "display_name": "Python 3",
   "language": "python",
   "name": "python3"
  },
  "language_info": {
   "codemirror_mode": {
    "name": "ipython",
    "version": 3
   },
   "file_extension": ".py",
   "mimetype": "text/x-python",
   "name": "python",
   "nbconvert_exporter": "python",
   "pygments_lexer": "ipython3",
   "version": "3.7.4"
  }
 },
 "nbformat": 4,
 "nbformat_minor": 2
}
