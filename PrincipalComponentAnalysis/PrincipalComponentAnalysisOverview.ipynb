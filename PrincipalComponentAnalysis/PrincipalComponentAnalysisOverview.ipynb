{
 "cells": [
  {
   "cell_type": "markdown",
   "metadata": {},
   "source": [
    "# Principal Component Analysis"
   ]
  },
  {
   "cell_type": "markdown",
   "metadata": {},
   "source": [
    "Principal Component Analysis is an unsupervised statistical technique used to examine the interrelations amonng a set of variables in order to identify the underlying structure of those variable. It is also known sometimes as a general factor analysis.\n",
    "___\n",
    "#### Background behind the principal component analysis ?\n",
    "\n",
    "Where regression determines a line of best fit to a data set, factor analysis determines several orthogonal lines of best fit to the data set.\n",
    "\n",
    "* Orthogonal means 'at right angles'：\n",
    "    \n",
    "    Actually the lines are prependicular to each other in n-dimensional space.\n",
    "\n",
    "\n",
    "* n-Dimensional Space is the variable sample space：\n",
    "    \n",
    "    There are as many dimensions as there are variabels, so in a data set with 4 variables the sample space is 4-dimensional.\n",
    "    \n",
    "The components are a linear transformation that chooses a variable system for the data set such that the greatest variance of the data set comes to lie on the first axis.\n",
    "\n",
    "The second greatest variance on the second axis, and so on ..., this process allows us to reduct the number of variables used in an analysis.\n",
    "\n",
    "Note that components are uncorrelated, since in the sample space are orthogonal to each other.\n",
    "\n",
    "If we use this technique on a data set with a large number of variables, we can compress the amount of explained variation to just a few components.\n",
    "\n",
    "The most challenging part of PCA is interpreting the components."
   ]
  },
  {
   "cell_type": "code",
   "execution_count": null,
   "metadata": {},
   "outputs": [],
   "source": []
  }
 ],
 "metadata": {
  "kernelspec": {
   "display_name": "Python 3",
   "language": "python",
   "name": "python3"
  },
  "language_info": {
   "codemirror_mode": {
    "name": "ipython",
    "version": 3
   },
   "file_extension": ".py",
   "mimetype": "text/x-python",
   "name": "python",
   "nbconvert_exporter": "python",
   "pygments_lexer": "ipython3",
   "version": "3.7.4"
  }
 },
 "nbformat": 4,
 "nbformat_minor": 2
}
