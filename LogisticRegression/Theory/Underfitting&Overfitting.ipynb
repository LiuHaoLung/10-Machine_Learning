{
 "cells": [
  {
   "cell_type": "markdown",
   "metadata": {},
   "source": [
    "# Underfitting & Overfitting"
   ]
  },
  {
   "cell_type": "markdown",
   "metadata": {},
   "source": [
    "There are two concepts that are interrelated underfitting and overfitting.\n",
    "___\n",
    "\n",
    "Underfitting             |Overfitting\n",
    "---                      |---\n",
    "The model has not captured the underlying logic of the data, it doesn't know what to do and therefore provides an answer that is far from correct.                         |Our training has focused on the particular training set so much, it has missed the point.\n",
    "\n",
    "___\n",
    "\n",
    "#### Underfitting\n",
    "\n",
    "A good model would not be perfect, but would be very close to the actual relationship.\n",
    "\n",
    "The linear model is the underfitting model, it means it provides an answer, but doesn't capture the underlying logic of the data.\n",
    "\n",
    "So it doesn't have strong predictive power, underfitting models are clumsy and have a low accuracy, it will quickly realize that either there are no relationships to be found or need a different model.\n",
    "___\n",
    "\n",
    "#### Overfitting\n",
    "\n",
    "The linear model is the overfitting model, it means it is a super good at modeling the training data that they fit or at least come very near each observation, so this model miss the point.\n",
    "\n",
    "The problem is that the random noise is captured inside an overfitting model.\n",
    "\n",
    "The underfitting and overfitting are problems encompassing predictive analytics as a whole.\n",
    "\n",
    "There is one solution of the overfitting though we can split the initial dataset into two training and test, split like 90% training and 10% test or 80% training and 20% test.\n",
    "\n",
    "We create the regression on the training data, after we have the coefficients, we test the model on the test data by creating a confusion matrix and asssessing the accuracy, the whole point is that the model has never seen the test dataset, therefore it can't over fit on it.\n",
    "\n",
    "___\n",
    "\n",
    "An underfitted model|A good model|An overfitted model\n",
    "---                 |---         |---\n",
    "Doesn't capture any logic|Captures the underlying logic of the dataset|Captures all the noise, thus missing the point\n",
    "Low train accuracy|High train accuracy|High train accuracy, it is seems outstanding\n",
    "Low test accuracy|High test accuracy|Low test accuracy"
   ]
  },
  {
   "cell_type": "code",
   "execution_count": null,
   "metadata": {},
   "outputs": [],
   "source": []
  }
 ],
 "metadata": {
  "kernelspec": {
   "display_name": "Python 3",
   "language": "python",
   "name": "python3"
  },
  "language_info": {
   "codemirror_mode": {
    "name": "ipython",
    "version": 3
   },
   "file_extension": ".py",
   "mimetype": "text/x-python",
   "name": "python",
   "nbconvert_exporter": "python",
   "pygments_lexer": "ipython3",
   "version": "3.7.4"
  }
 },
 "nbformat": 4,
 "nbformat_minor": 2
}
