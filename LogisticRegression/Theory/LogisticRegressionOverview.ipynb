{
 "cells": [
  {
   "cell_type": "markdown",
   "metadata": {},
   "source": [
    "# Logistic Regression"
   ]
  },
  {
   "cell_type": "markdown",
   "metadata": {},
   "source": [
    "Discuss classfication problems how to use logistic regression to solve them and how to interpret the result of the logistic regression to wreak confusion matrix.\n",
    "___\n",
    "#### What is the classfication ?\n",
    "\n",
    "1. Classfication is the problem of identifying to which of a set of categories a new observation belongs based off of training data.\n",
    "\n",
    "\n",
    "<br>2. Some example of classfication problem：</br>\n",
    "\n",
    "*  Spam versus 'Ham' emails.\n",
    "*  Loan Default(yes/no)\n",
    "*  Disease Diagnosis\n",
    "*  Above were all examples of binary classfication\n",
    "___\n",
    "\n",
    "#### What is the logistic regression do ?\n",
    "\n",
    "1. Allows us to solve classfication problems, where we are trying to predict discrete categories.\n",
    "\n",
    "2. The convention for binary classfication is to have two classed 0 and 1.\n",
    "\n",
    "3. Can not use the linear regression to predict the logistic regression.\n",
    "\n",
    "4. The sigmoid (aka Logistic) function takes in any value and output is goint to between 0 and 1.\n",
    "\n",
    "5. This means we can take our linear regression solution and plact it into the sigmoid function, it doesn't matter whatever the value of the linear model, the output always to be between 0 and 1.\n",
    "\n",
    "6. Can set a cutoff point at 0.5, anything below it results in class 0, anything above it is class 1.\n",
    "\n",
    "7. After you train l logistic regression model to classify the training data, and goint to evaluate this model's performance on some test data, can use the confusion matrix to evaluate classfication model."
   ]
  },
  {
   "cell_type": "code",
   "execution_count": null,
   "metadata": {},
   "outputs": [],
   "source": []
  }
 ],
 "metadata": {
  "kernelspec": {
   "display_name": "Python 3",
   "language": "python",
   "name": "python3"
  },
  "language_info": {
   "codemirror_mode": {
    "name": "ipython",
    "version": 3
   },
   "file_extension": ".py",
   "mimetype": "text/x-python",
   "name": "python",
   "nbconvert_exporter": "python",
   "pygments_lexer": "ipython3",
   "version": "3.7.4"
  }
 },
 "nbformat": 4,
 "nbformat_minor": 2
}
