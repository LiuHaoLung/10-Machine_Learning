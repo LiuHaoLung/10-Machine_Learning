{
 "cells": [
  {
   "cell_type": "markdown",
   "metadata": {},
   "source": [
    "# Logistic Regression Assumptions"
   ]
  },
  {
   "cell_type": "markdown",
   "metadata": {},
   "source": [
    "The logistic regression assumptions are very close to those of linear regression, but the main difference is non-linear.\n",
    "\n",
    "1. Non-linear.\n",
    "2. No endogeneity.\n",
    "3. Normality and homoscedasticity.\n",
    "4. No autocorrelation.\n",
    "5. No multicollinearity."
   ]
  },
  {
   "cell_type": "markdown",
   "metadata": {},
   "source": [
    "# Logistic vs Logit Function"
   ]
  },
  {
   "cell_type": "markdown",
   "metadata": {},
   "source": [
    "In terms of probabilities, the logistic regression predicts the probability of an event occurring.\n",
    "\n",
    "Logistic, the curve we saw is defined by a logistic function, it has an S shape and is bounded by 0 and 1.\n",
    "___\n",
    "\n",
    "The logistic regression model, it is defined by the following expression <code>p(x) = (e ^ (β0 + β1x1 + ... + βkxk)) / (1 + e ^ (β0 + β1x1 + ... + βkxk))</code>, that means exponential of a linear combination of inputs and coefficients divided by 1 plus the same exponential.\n",
    "\n",
    "The logistic regression model <code>p(x) = (e ^ (β0 + β1x1 + ... + βkxk)) / (1 + e ^ (β0 + β1x1 + ... + βkxk))</code>, if we transform this expression, it will get <code>P(x) / 1 - p(x) = e ^ (β0 + β1x1 + ... + βkxk)</code>, that means the probability of the event occurring divided by the probability of the event not occurring equals the exponential from above and it called logit regression model.\n",
    "\n",
    "The logit model <code>P(x) / 1 - p(x) = e ^ (β0 + β1x1 + ... + βkxk)</code>, so take the log of both sides, it becomes <code>log(odds) = β0 + β1x1 + ... + βkxk.</code>\n",
    "___\n",
    "\n",
    "Logistic model            |Logit model\n",
    "---                       |---\n",
    "<code>p(x) = (e ^ (β0 + β1x1 + ... + βkxk)) / (1 + e ^ (β0 + β1x1 + ... + βkxk))</code>|<code>log(odds) = β0 + β1x1 + ... + βkxk.</code>"
   ]
  },
  {
   "cell_type": "code",
   "execution_count": null,
   "metadata": {},
   "outputs": [],
   "source": []
  }
 ],
 "metadata": {
  "kernelspec": {
   "display_name": "Python 3",
   "language": "python",
   "name": "python3"
  },
  "language_info": {
   "codemirror_mode": {
    "name": "ipython",
    "version": 3
   },
   "file_extension": ".py",
   "mimetype": "text/x-python",
   "name": "python",
   "nbconvert_exporter": "python",
   "pygments_lexer": "ipython3",
   "version": "3.7.4"
  }
 },
 "nbformat": 4,
 "nbformat_minor": 2
}
