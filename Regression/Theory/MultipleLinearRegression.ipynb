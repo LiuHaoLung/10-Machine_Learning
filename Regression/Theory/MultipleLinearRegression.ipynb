{
 "cells": [
  {
   "cell_type": "markdown",
   "metadata": {},
   "source": [
    "# Multiple Linear Regression"
   ]
  },
  {
   "cell_type": "markdown",
   "metadata": {},
   "source": [
    "The simple linear regression is <code>ŷ = b0 + b1x1,</code> we predicted the dependent variable y with a singler regressor x.\n",
    "\n",
    "Example for income, the person's income doesn't depend solely on education, but also on their experience, the household income, the tenure, the country living in, the languages speak and the time they spend with their current employer.\n",
    "\n",
    "Or the house price, the house price don't depend solely on their size but also on location and year of construction.\n",
    "\n",
    "College GPA can't be predicted solely by students SAT score, but also by their high school GPA, income, gender and so on.\n",
    "\n",
    "If we want a good models, we need multiple regressions, multiple regressions address the higher complexity of problems, the more variable you have, the more factors you are considering in a model.\n",
    "\n",
    "In the real world things depend on 2, 3, 4, or even 10 or 20 factors, the multiple regression model is <code>y = β0 + β1x1 + β2x2 + β3x3 + ... + βkxk + ε</code>, this is similar to a simple regression, the main difference is there are a bunch of independent variables not just one.\n",
    "\n",
    "The multiple regression equation is <code>ŷ = b0 + b1x1 + b2x2 + b3x3 + ... + bkxk</code>, the <code>ŷ</code> is inferred value, the b0 is the intercept, and the independent variable range from x1, x2, x3 to xk, and the b1 to bk are there corresponding coefficients.\n",
    "\n",
    "The multiple regression is that it's not about the best fitting line anymore, actually it stops being two dimensional and when we have over three dimensional there is no visual way to represent the data, so the multiple regression is about the best fitting model.\n",
    "\n",
    "We really want is the least sum of squared errors, in order to decrease the model's error, well by increasing the explanatory power of the model, SSE and SSR are like communicating vessels, each time we lower one, the other goes higher, with each additional variable, we increase the explanatory power by 0 or more than 0, we can't lower it, more variables usually equal a best fitting model."
   ]
  }
 ],
 "metadata": {
  "kernelspec": {
   "display_name": "Python 3",
   "language": "python",
   "name": "python3"
  },
  "language_info": {
   "codemirror_mode": {
    "name": "ipython",
    "version": 3
   },
   "file_extension": ".py",
   "mimetype": "text/x-python",
   "name": "python",
   "nbconvert_exporter": "python",
   "pygments_lexer": "ipython3",
   "version": "3.7.4"
  }
 },
 "nbformat": 4,
 "nbformat_minor": 2
}
