{
 "cells": [
  {
   "cell_type": "markdown",
   "metadata": {},
   "source": [
    "# A4 No Autocorrelation"
   ]
  },
  {
   "cell_type": "markdown",
   "metadata": {},
   "source": [
    "No autocorrelation is also known as No serial correlation.\n",
    "\n",
    "Mathematically is looks like this <code>σεiεj = 0:∀i≠j,</code> error are assumed to be uncorrelated.\n",
    "\n",
    "Where can we observe serial correlation between errors, it is highly unlikely to find it in data taken at one moment of time, known as cross-sectional data, however it is very common in time series data.\n",
    "\n",
    "Example for stock prices, every day you have a new quote for the same stock, so it is change everyday and the new number you see have the same underlying asset, ideally you want them to be random or predicted such as GDP, tax rate, political events, unfortunately it is common in underdeveloped markets to see patterns in the stock prices, there is a well-known phenomenon called the day of the week effect.\n",
    "\n",
    "It consists in disproportionately high returns on Fridays and low returns on Mondays, there is no consensus on the true nature of the day of the week effect, one possible explanation is that investors don't have time to read all the news immediately, so they do it over the weekend.\n",
    "\n",
    "The first day to respond to negative information is on Mondays, then during the week their advisors give them new positive information and they start buying on Thursday and Fridays.\n",
    "\n",
    "Whatever the reason, there is a correlation of the errors when building regressions about stock prices, errors on Mondays would be biased downwards and error for Fridays would be bias upwards.\n",
    "\n",
    "So the mathematics of the linear regression doesn't consider this, it assume errors should be randomly spread around the regression line.\n",
    "___\n",
    "\n",
    "#### How does one detection the autocorrelation\n",
    "\n",
    "A common way is to plot all the residuals on a graph and look for patterns, if there are no patterns to be seen, there is no autocorrelation.\n",
    "\n",
    "Another is the Durbin-Watson test, which you have in the summay for the table will provide by stat's models.\n",
    "\n",
    "Generally its value fall between 0 and 4, 2 means no autocorrelation while values below 1 and above 3 are cause for alarm.\n",
    "___\n",
    "\n",
    "#### What is remedy\n",
    "\n",
    "THere is no remedy.\n",
    "\n",
    "When in the presence of autocorrelation avoid the linear regression model.\n",
    "\n",
    "It has another regression model, such like autoregressive model, moving average model, autoregressive moving average model and the autoregressive integrated moving average model.\n",
    "\n",
    "Make choice as you will but don't use the linear regression model when error terms are auto correlated."
   ]
  }
 ],
 "metadata": {
  "kernelspec": {
   "display_name": "Python 3",
   "language": "python",
   "name": "python3"
  },
  "language_info": {
   "codemirror_mode": {
    "name": "ipython",
    "version": 3
   },
   "file_extension": ".py",
   "mimetype": "text/x-python",
   "name": "python",
   "nbconvert_exporter": "python",
   "pygments_lexer": "ipython3",
   "version": "3.7.4"
  }
 },
 "nbformat": 4,
 "nbformat_minor": 2
}
