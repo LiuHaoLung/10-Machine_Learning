{
 "cells": [
  {
   "cell_type": "markdown",
   "metadata": {},
   "source": [
    "# A5 No Multicollinearity"
   ]
  },
  {
   "cell_type": "markdown",
   "metadata": {},
   "source": [
    "We observe multicollinearity when two or more variables have a high correlation.\n",
    "___\n",
    "\n",
    "#### Example 1\n",
    "\n",
    "<code>a = 2 + 5b</code>, a and b are two variables with an exact linear combination, a can represented using b and b can be represented using a in a model, so the <code>b = (a - 2) / 5</code>, in this example we have perfect multicollinearity, so <code>pab = 1</code>.\n",
    "\n",
    "This imposes a big problem to our regression model as the coefficients will be wrongly estimated, the reasoning is thas if a can be represented using b there is no point using both, we can just keep one of them.\n",
    "___\n",
    "\n",
    "#### Example 2\n",
    "\n",
    "There are two variables c and d, with a correlation of 0.9, that means <code>pcd = 0.9</code>, if we had a regression model using c and d, we would also have multicollinearity, although not perfect, so if c can almost represented using d, there is no point using both.\n",
    "____\n",
    "\n",
    "#### Example 3\n",
    "\n",
    "There are two bars in the neighborhood, Bonkers and Shakespeare, we want to predict the market share of Bonkers, most people living in the neighborhood drink only beer in the bars, so a good approximation would be a model with three variables.\n",
    "\n",
    "There are the price of half a pint of beer at Bonkers, the price of a pint of beer at Bonkers and the price of beer at Shakespeare, <code>Market share = F(P1/2pintb, Ppintb, Ppints)</code>.\n",
    "\n",
    "Half a pint of beer costs around 1 and 1 pint costs 1.9, Bonkers tries to gain market share by cutting half a pint of beer price to 0.9, it can't keep the price of 1 pint at 1.9, because people would just buy two times half a pint of beer, so the management lowers the price of the 1 pint of beer to 1.7.\n",
    "\n",
    "Type         |Old        |New\n",
    "---          |---        |---\n",
    "Half a pint  |1          |0.9\n",
    "one pint     |1.9        |1.7\n",
    "\n",
    "We run a regression based on these three variables, the p-value table is below:\n",
    "\n",
    "Type                           |P-value\n",
    "---                            |---\n",
    "intercept                      |0.127\n",
    "price half a pint              |0.741\n",
    "price one pint                 |0.082 \n",
    "price one pint at Shakespeare  |0.000\n",
    "\n",
    "The price of half a pint and one pint are all shows insignificant, the underlying logic behind this model was so rigid.\n",
    "\n",
    "No multicollinearity is an assumption of the calculations behind the regression, the price of half a pint and one pint at Bonkers definitely moved together, this messed up the calculations of the computer and it provided us with wrong estimates and wrong p-values.\n",
    "___\n",
    "\n",
    "#### How to fix the multicollinearity\n",
    "\n",
    "First one is drop one of the two variables, second is transform them into one variable, third if you are super confident in your skills you can keep them both while treating them with extreme caution.\n",
    "\n",
    "The multicollinearity is a big problem but is also the easiest to notice before creating the regression find the correlation between each two pairs of independent variables and you will know if a multicollinearity problem may arise."
   ]
  },
  {
   "cell_type": "code",
   "execution_count": null,
   "metadata": {},
   "outputs": [],
   "source": []
  }
 ],
 "metadata": {
  "kernelspec": {
   "display_name": "Python 3",
   "language": "python",
   "name": "python3"
  },
  "language_info": {
   "codemirror_mode": {
    "name": "ipython",
    "version": 3
   },
   "file_extension": ".py",
   "mimetype": "text/x-python",
   "name": "python",
   "nbconvert_exporter": "python",
   "pygments_lexer": "ipython3",
   "version": "3.7.4"
  }
 },
 "nbformat": 4,
 "nbformat_minor": 2
}
