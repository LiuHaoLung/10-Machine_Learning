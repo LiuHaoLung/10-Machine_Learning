{
 "cells": [
  {
   "cell_type": "markdown",
   "metadata": {},
   "source": [
    "# A3 Normality And Homoscedasticity"
   ]
  },
  {
   "cell_type": "markdown",
   "metadata": {},
   "source": [
    "Their have three parts, normality, zero mean and homoscedasticity.\n",
    "___\n",
    "\n",
    "#### Normality\n",
    "\n",
    "We assume the error term is normally distributed, normally distribution is not required for creating the regression but for making inferences. \n",
    "\n",
    "In the regression tabels were full of t-statistics and F-statistics, well this thing woik because we assume normality of the error term.\n",
    "\n",
    "What should we do if the error term is not normally distributed, using the central limit theorem, for large samples the central limit theorem applies for the error terms too, therefore we can consider normality as a given for us.\n",
    "___\n",
    "\n",
    "#### Zero mean of error terms\n",
    "\n",
    "If the mean in not expected to be 0 then the line is not the best fitting one.\n",
    "\n",
    "However having an intercept solves that problem, so in the real life it is unusual to violate this part of the assumption.\n",
    "___\n",
    "\n",
    "#### Homoscedasticity\n",
    "\n",
    "The homoscedasticity it means to have equal variance, so the error terms should have equal variance one with the other.\n",
    "\n",
    "An example of a dataset where errors have a different variance, the plot will starting close to the regression line and going further away, this would imply that for smaller value of the independent and dependent variables, we would have a better prediction then for bigger values.\n",
    "___\n",
    "\n",
    "#### Example of Homoscedasticity\n",
    "\n",
    "Example if a person is poor, they spends a constant mount of money on food ... etc, the wealthy an individual is the high variability of his expenditure.\n",
    "\n",
    "A poor person maybe forced to eat eggs of potatoes every day, most meal cost a similar amount of money, so it is low variability; the wealthy person may go to fancy restaurant, where are served with expensive, so it is high variability, therefor we expect homoscedasticity.\n",
    "___\n",
    "\n",
    "#### Prevention Homoscedasticity\n",
    "\n",
    "First check for omitted variable bias; after that you can look for outliers and try to remove them; finally the log transformation, naturally log stands for a logarithm for each observation and the dependnet variable, calculate its natural log and then create a regression between the log of y and the independent x's."
   ]
  }
 ],
 "metadata": {
  "kernelspec": {
   "display_name": "Python 3",
   "language": "python",
   "name": "python3"
  },
  "language_info": {
   "codemirror_mode": {
    "name": "ipython",
    "version": 3
   },
   "file_extension": ".py",
   "mimetype": "text/x-python",
   "name": "python",
   "nbconvert_exporter": "python",
   "pygments_lexer": "ipython3",
   "version": "3.7.4"
  }
 },
 "nbformat": 4,
 "nbformat_minor": 2
}
