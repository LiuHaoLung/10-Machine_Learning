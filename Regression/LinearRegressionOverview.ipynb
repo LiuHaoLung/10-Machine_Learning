{
 "cells": [
  {
   "cell_type": "markdown",
   "metadata": {},
   "source": [
    "# Linear Regression"
   ]
  },
  {
   "cell_type": "markdown",
   "metadata": {},
   "source": [
    "#### What is the linear regression do ?\n",
    "\n",
    "1. The goal with linear regression is minimize the vertical distance between all the data points and our line.\n",
    "\n",
    "\n",
    "2. So in determining the best line, we are attemping to minimize the distance between all the points and their distance to our line.\n",
    "\n",
    "___\n",
    "\n",
    "#### How do we decide which line is the best fitting one ?\n",
    "\n",
    "1. Use the least squares method, which is fitted by minimizing the sum of squares of the residuals.\n",
    "\n",
    "2. The residuals for an observation is the difference between the observation(the y value) and the fitted line."
   ]
  },
  {
   "cell_type": "code",
   "execution_count": null,
   "metadata": {},
   "outputs": [],
   "source": []
  }
 ],
 "metadata": {
  "kernelspec": {
   "display_name": "Python 3",
   "language": "python",
   "name": "python3"
  },
  "language_info": {
   "codemirror_mode": {
    "name": "ipython",
    "version": 3
   },
   "file_extension": ".py",
   "mimetype": "text/x-python",
   "name": "python",
   "nbconvert_exporter": "python",
   "pygments_lexer": "ipython3",
   "version": "3.7.4"
  }
 },
 "nbformat": 4,
 "nbformat_minor": 2
}
