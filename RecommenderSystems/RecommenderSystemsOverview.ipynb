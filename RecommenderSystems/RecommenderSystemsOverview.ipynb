{
 "cells": [
  {
   "cell_type": "markdown",
   "metadata": {},
   "source": [
    "# Recommender Systems"
   ]
  },
  {
   "cell_type": "markdown",
   "metadata": {},
   "source": [
    "#### What is Recommender Systems ?\n",
    "\n",
    "The two most common types of recommender systems are Content-Based and Collaborative Filtering(CF).\n",
    "\n",
    "1. Collaborative Filtering produces recommendations based on the knowledge of user's attitude to items, that is it uses the 'wisdom of the crowd' to recommend items, in general, it is more commonly used than content-based systems because it usually gives better results and is relatively easy to understand.\n",
    "\n",
    "2. Content-Based recommender systems focus on the attributes of the items and give you recommendations based on the similarity between them."
   ]
  },
  {
   "cell_type": "code",
   "execution_count": null,
   "metadata": {},
   "outputs": [],
   "source": []
  }
 ],
 "metadata": {
  "kernelspec": {
   "display_name": "Python 3",
   "language": "python",
   "name": "python3"
  },
  "language_info": {
   "codemirror_mode": {
    "name": "ipython",
    "version": 3
   },
   "file_extension": ".py",
   "mimetype": "text/x-python",
   "name": "python",
   "nbconvert_exporter": "python",
   "pygments_lexer": "ipython3",
   "version": "3.7.4"
  }
 },
 "nbformat": 4,
 "nbformat_minor": 2
}
