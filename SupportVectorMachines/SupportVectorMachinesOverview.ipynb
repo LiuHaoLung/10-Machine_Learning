{
 "cells": [
  {
   "cell_type": "markdown",
   "metadata": {},
   "source": [
    "# Support Vector Machines"
   ]
  },
  {
   "cell_type": "markdown",
   "metadata": {},
   "source": [
    "SVMs are supervised learning models with associated learning algorithms that analyze data and recognize patternsm used for classfication and regression analysis.\n",
    "___\n",
    "#### What is the Support Vector Machines do ?\n",
    "\n",
    "1. Given a set of training examples, each marked for belonging to one of two categories(binary classfication), an SVM trainging algorithm builds a model that assigns new example into one category or the other, making it a non-probabilistic(非隨機抽樣） binary linear classfier.\n",
    "\n",
    "2. An SVM model is a representation of the examples as points in space, mapped so that the examples of the separate categories are divied by a clear gap that is as wide as possible.\n",
    "\n",
    "3. New examples are the mapped into that same space and predicted to belong to a category based on which side of the gat they fall on.\n",
    "___\n",
    "#### How is  Support Vector Machines methods ?\n",
    "\n",
    "Setp 1. Imagine we have the training data below, we have blue class and pink class, we're going to try to do is binary classfication for new points, so we want to know this new points is belong to the blue class or the pink class.\n",
    "\n",
    "Step 2. In order to do that, we could do is draw a separating hyperplane, in step 1 case, it just a line between the classes, however we have lots of options of hyperline that can separate these two classed perfectly, question is how do we actually choose the line that separates these classed the best?\n",
    "\n",
    "Step 3. What we would like to do is chooes a hyperplane that maxinizes the margin between the classed, the vector points at the margin line touched are the known as support vector, and that's the name support vector machines come from.\n",
    "___\n",
    "#### What is kernel trick ?\n",
    "\n",
    "1. We can extend this idea to non-linearly separable data through the 'kernel trick'.\n",
    "\n",
    "2. When the data is not linearly separabel, just like the data is like the circle, so it is no way we can draw a straight line to separated the classed.\n",
    "\n",
    "3. However through the kernel trick what we do is we end up doing this in a higher dimension, just like let two dimension become to the third dimension, and it can fint the hyperplane to separated the classed."
   ]
  },
  {
   "cell_type": "code",
   "execution_count": null,
   "metadata": {},
   "outputs": [],
   "source": []
  }
 ],
 "metadata": {
  "kernelspec": {
   "display_name": "Python 3",
   "language": "python",
   "name": "python3"
  },
  "language_info": {
   "codemirror_mode": {
    "name": "ipython",
    "version": 3
   },
   "file_extension": ".py",
   "mimetype": "text/x-python",
   "name": "python",
   "nbconvert_exporter": "python",
   "pygments_lexer": "ipython3",
   "version": "3.7.4"
  }
 },
 "nbformat": 4,
 "nbformat_minor": 2
}
