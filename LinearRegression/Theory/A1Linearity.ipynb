{
 "cells": [
  {
   "cell_type": "markdown",
   "metadata": {},
   "source": [
    "# A1 Linearity"
   ]
  },
  {
   "cell_type": "markdown",
   "metadata": {},
   "source": [
    "#### Define\n",
    "\n",
    "The linear regression is the simplest non trivial relationship, it is called linear because the equation is linear.\n",
    "\n",
    "Each independent variable is multiplied by a coefficient and summed up to predict the value of the dependent variable.\n",
    "___\n",
    "\n",
    "#### Verify the relationship\n",
    "\n",
    "How can verify the relationship between two variables is linear ?\n",
    "\n",
    "The easiest way is to choose an independent variable x1 and plotted against the dependent y on a scatterplot.\n",
    "\n",
    "If the data points form a pattern that looks like a straight line, then a linear regression model is suitable.\n",
    "___\n",
    "\n",
    "#### Violated situation\n",
    "\n",
    "A case where the assumption is violated, after plotting another variable x2 against y on a scatterplot, it can see there is no straight line that fits the data well, actually a curved line would be a very good fit.\n",
    "\n",
    "In this case, using the linear regression would not be appropriate.\n",
    "___\n",
    "\n",
    "#### Fixed the violated situation\n",
    "\n",
    "Linearity seems restrictive but there are easy fixes for it, you can run a non-linear regression, exponential transformation and log transformation that help with that.\n",
    "\n",
    "The quadratic relationship we saw could be easily transformed into a straight line with the appropriate methods.\n",
    "\n",
    "The takeway is if the relationship is non-linear you should'nt use the data before transforming it appropriately."
   ]
  },
  {
   "cell_type": "code",
   "execution_count": null,
   "metadata": {},
   "outputs": [],
   "source": []
  }
 ],
 "metadata": {
  "kernelspec": {
   "display_name": "Python 3",
   "language": "python",
   "name": "python3"
  },
  "language_info": {
   "codemirror_mode": {
    "name": "ipython",
    "version": 3
   },
   "file_extension": ".py",
   "mimetype": "text/x-python",
   "name": "python",
   "nbconvert_exporter": "python",
   "pygments_lexer": "ipython3",
   "version": "3.7.4"
  }
 },
 "nbformat": 4,
 "nbformat_minor": 2
}
