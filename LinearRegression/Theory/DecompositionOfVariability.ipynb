{
 "cells": [
  {
   "cell_type": "markdown",
   "metadata": {},
   "source": [
    "# Decomposition Of Variability"
   ]
  },
  {
   "cell_type": "markdown",
   "metadata": {},
   "source": [
    "This is based on the ANOVA framework.\n",
    "\n",
    "There are three terms we must define:\n",
    "\n",
    "1. Sum of squares total.\n",
    "2. Sum of squares regression.\n",
    "3. Sum of squares error.\n",
    "___\n",
    "\n",
    "#### Sum of squares total\n",
    "\n",
    "It is denoted ***SST***, it is the square difference between the observed dependent variable and its mean, it can think of this as the dispersion of the observed variables around the mean, it is a measure the total variability of the dataset.\n",
    "\n",
    "The other denoted is ***TSS*.\n",
    "___\n",
    "\n",
    "#### Sum of squares regression\n",
    "\n",
    "It is denoted ***SSR***, it is the sum of the differences between the predicted value and the mean of the dependent variable, it is a measure the explained variability by line, this means, it as a measure that describes how well your line fits the data.\n",
    "\n",
    "If the SSR = SST, it means your regression model captures all the observed variability and it perfect.\n",
    "\n",
    "The other denoted is ***ESS***, the explain some of squares.\n",
    "___\n",
    "\n",
    "#### Sum of squares error\n",
    "\n",
    "It is denoted ***SSE***, it its the difference between the observed value and predict value, it is measure the unexplained variability by the regression.\n",
    "\n",
    "We usually want to minimize the error, the smaller the error, the better the estimation power of regression.\n",
    "\n",
    "The other denoted is ***RSS***, the residual sum of squares.\n",
    "\n",
    "The residual means remaining or unexplained.\n",
    "___\n",
    "\n",
    "The ***SST = SSR + SSE***, the total variability of data set = the variability explained by the regression line + the unexplained variability known as error, the lower error will cause a better regression."
   ]
  },
  {
   "cell_type": "code",
   "execution_count": null,
   "metadata": {},
   "outputs": [],
   "source": []
  }
 ],
 "metadata": {
  "kernelspec": {
   "display_name": "Python 3",
   "language": "python",
   "name": "python3"
  },
  "language_info": {
   "codemirror_mode": {
    "name": "ipython",
    "version": 3
   },
   "file_extension": ".py",
   "mimetype": "text/x-python",
   "name": "python",
   "nbconvert_exporter": "python",
   "pygments_lexer": "ipython3",
   "version": "3.7.4"
  }
 },
 "nbformat": 4,
 "nbformat_minor": 2
}
