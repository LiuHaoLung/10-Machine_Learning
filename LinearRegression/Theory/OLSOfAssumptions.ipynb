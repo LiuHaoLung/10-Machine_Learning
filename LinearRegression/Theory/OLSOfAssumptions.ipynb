{
 "cells": [
  {
   "cell_type": "markdown",
   "metadata": {},
   "source": [
    "# OLS Of Assumptions"
   ]
  },
  {
   "cell_type": "markdown",
   "metadata": {},
   "source": [
    "These are main regression assumptions, there are crucial for regression analysis.\n",
    "___\n",
    "\n",
    "#### Linearity\n",
    "\n",
    "It is called a linear regression, each independent variable is multiplied by a coefficient and summed up to predict the value.\n",
    "___\n",
    "\n",
    "#### No endogeneity\n",
    "\n",
    "Mathematically this is expressed as the covariance of the error and the x' is 0 for any error or x.\n",
    "___\n",
    "\n",
    "#### Normality and homoscedasticity\n",
    "\n",
    "Normality means the error term is normally distributed, the expected value of the error is 0 as we expect to have no errors on average.\n",
    "\n",
    "Homoscedasticity means constant variance.\n",
    "___\n",
    "\n",
    "#### No autocorrelation\n",
    "\n",
    "Mathematically the covariance of any two error terms is 0, this is the assumption that would usually stop you from using a linear regression in your analysis.\n",
    "___\n",
    "\n",
    "#### No multicollinearity\n",
    "\n",
    "Multicollinearity is observed when two or more variables have a high correlation between each other."
   ]
  },
  {
   "cell_type": "code",
   "execution_count": null,
   "metadata": {},
   "outputs": [],
   "source": []
  }
 ],
 "metadata": {
  "kernelspec": {
   "display_name": "Python 3",
   "language": "python",
   "name": "python3"
  },
  "language_info": {
   "codemirror_mode": {
    "name": "ipython",
    "version": 3
   },
   "file_extension": ".py",
   "mimetype": "text/x-python",
   "name": "python",
   "nbconvert_exporter": "python",
   "pygments_lexer": "ipython3",
   "version": "3.7.4"
  }
 },
 "nbformat": 4,
 "nbformat_minor": 2
}
