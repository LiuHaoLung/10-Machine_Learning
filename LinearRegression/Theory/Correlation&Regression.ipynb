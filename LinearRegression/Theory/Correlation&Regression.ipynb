{
 "cells": [
  {
   "cell_type": "markdown",
   "metadata": {},
   "source": [
    "# Correlation & Regression"
   ]
  },
  {
   "cell_type": "markdown",
   "metadata": {},
   "source": [
    "This is focus on the relationship between correlation analysis and regression analysis.\n",
    "\n",
    "Correlation                                               |Regression\n",
    "---                                                       |---\n",
    "Measures the degree of relationship between two variables |How one variable affects another or what changes it causes to the other\n",
    "Doesn't capture causality but the degre of interrelation between the two variables|Based on the causality it shows no degree of connection but cause and effect\n",
    "The property of correlation is <code>p(x,y) = p(y,x)</code>|The property of regression is <code>p(x,y)≠p(y,x)</code>, it is one way\n",
    "Single point|Known for the best reading line that goes through the data points and minimizes the distance between them\n",
    "\n",
    "Sum it up, the correlation analysis doesn't imply causation."
   ]
  },
  {
   "cell_type": "code",
   "execution_count": null,
   "metadata": {},
   "outputs": [],
   "source": []
  }
 ],
 "metadata": {
  "kernelspec": {
   "display_name": "Python 3",
   "language": "python",
   "name": "python3"
  },
  "language_info": {
   "codemirror_mode": {
    "name": "ipython",
    "version": 3
   },
   "file_extension": ".py",
   "mimetype": "text/x-python",
   "name": "python",
   "nbconvert_exporter": "python",
   "pygments_lexer": "ipython3",
   "version": "3.7.4"
  }
 },
 "nbformat": 4,
 "nbformat_minor": 2
}
