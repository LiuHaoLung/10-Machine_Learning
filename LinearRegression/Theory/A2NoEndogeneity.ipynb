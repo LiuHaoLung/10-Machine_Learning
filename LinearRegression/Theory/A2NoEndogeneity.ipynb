{
 "cells": [
  {
   "cell_type": "markdown",
   "metadata": {},
   "source": [
    "# A2 No Endogeneity"
   ]
  },
  {
   "cell_type": "markdown",
   "metadata": {},
   "source": [
    "#### Define\n",
    "Assumption is the so-called no endogeneity of regressor, it refers to the prohibition of a line between the independent variables and the errors.\n",
    "\n",
    "Mathematically expressed in the following way: <code>σxε = 0:∀x,ε,</code> in this case the error thus the difference between the observed values and the predicted values is correlated with out independent values.\n",
    "___\n",
    "\n",
    "#### Omitted Variable Bias\n",
    "\n",
    "This is a problem referred to as omitted variable bias, omitted variable bias is introduced to the model when you forget to include a relevant variable, as each independent variable explains why, they move together and somewhat correlated.\n",
    "\n",
    "Like the y is explained(somewhat correlated) by xs, similarly y is also explained by the omitted variable, so they are also correlated.\n",
    "\n",
    "Chances are the omitted variable is also correlated with at least one independent x.\n",
    "\n",
    "However you forgot to include it as a regressor, everything that you don't explain with your model goes into the error.\n",
    "\n",
    "So actually the error becomes correlated with everything else.\n",
    "___\n",
    "\n",
    "#### Example for the Omitted Variable Bias\n",
    "\n",
    "Example you're trying to predict the price of an apartment building in London based on its size.\n",
    "\n",
    "This is a model <code>Price = F(size)</code> that will have high explanatory power, however from our sample <code>ŷ = 11342786 - 132100x1</code> it seems the smaller the size of the house, the high the price, this is extremely counterintuitive.\n",
    "\n",
    "We look for remedies and it seems that the covariance of the independent variables and the error terms is not 0, we are missing something crucial, the omitted variable bias is hard to fix.\n",
    "\n",
    "There is rarely construction of new apartment buildings in central London and then you realize the city or London was in the sample, the place where most building are skyscrapers with some of the most valuable real estate in the world, we omitted the exact location as a variable.\n",
    "\n",
    "After we included a variable that measures if the property is in London city, everything falls into place, so the equation become <code>ŷ = 520365 + 78210xsize + 7126579xcity.</code>\n",
    "\n",
    "The incorrect exclusion of a variable like in this case, leads to biased and counterintuitive estimates that are toxic to your regression analysis.\n",
    "\n",
    "An incorrect inclusion of a variable, leads to inefficient estimates which don't bias the regression and you can immediately drop them.\n",
    "\n",
    "Omitted Variable Bias always different, always sneaky and only experience in advance knowledge on the subject can help."
   ]
  },
  {
   "cell_type": "code",
   "execution_count": null,
   "metadata": {},
   "outputs": [],
   "source": []
  }
 ],
 "metadata": {
  "kernelspec": {
   "display_name": "Python 3",
   "language": "python",
   "name": "python3"
  },
  "language_info": {
   "codemirror_mode": {
    "name": "ipython",
    "version": 3
   },
   "file_extension": ".py",
   "mimetype": "text/x-python",
   "name": "python",
   "nbconvert_exporter": "python",
   "pygments_lexer": "ipython3",
   "version": "3.7.4"
  }
 },
 "nbformat": 4,
 "nbformat_minor": 2
}
