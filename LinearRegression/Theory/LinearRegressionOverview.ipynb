{
 "cells": [
  {
   "cell_type": "markdown",
   "metadata": {},
   "source": [
    "# Linear Regression"
   ]
  },
  {
   "cell_type": "markdown",
   "metadata": {},
   "source": [
    "A linear regression is a linear approximation of a causal relationship between two or more variables.\n",
    "\n",
    "Regression models are highly valuable as they are one of the most common ways to make inferences and predictions.\n",
    "\n",
    "The process goes like:\n",
    "\n",
    "1. Get sample data.\n",
    "2. Design a model that works and explains that sample data.\n",
    "3. Make predictions for the whole population based on the model you've developed.\n",
    "\n",
    "There is a dependent variable labeled Y being predicted and independent variables labled x1,x2...xk this are predictors.\n",
    "\n",
    "The dependent variable Y is a function of the independent variables x1 to xk, that means <code>Y = F(x1,x2...xk)</code> and the regression model is linear approximation of this function.\n",
    "    \n",
    "The easiest regression model is the simple linear regression <code> y = β0 + β1x1 + ε,</code> this formula is population formula.\n",
    "\n",
    "In this model:\n",
    "1. <code>y</code> is the variable we are trying to predict and it's called the dependent variable.\n",
    "2. <code>x</code> is an independent variable.\n",
    "3. <code>β1</code> is the coefficient that stands before the independent variable it quantified the effect of y.\n",
    "4. <code>β0</code> is the constant.\n",
    "5. <code>ε</code> is represents the error of estimation, on average across all observations, the error is 0.\n",
    "\n",
    "When using regression analysis we want to predict the value of y, provided we have the value of x, but to have regression, y must depend on x in some causal way, whenever there is a change in x such change must translate into a change in y.\n",
    "\n",
    "Example the income a person recerives depends on the number of years of education that person has received, so the dependent variable as income, while the independent variable is years of education and there is a causal relationship between the two, so the more education translates into a higher income, so in this example, the income is a function of education, in this example the <code>β0</code> is the minimum wage no matter your education, <code>ε</code> is the actual difference between the observed income and the income the regression predicted.\n",
    "\n",
    "In practice we use the linear regression equation <code>ŷ = b0 + b1x1,</code> whenever we have a hat symbol it is an estimated or a predicted value, b0 is the estimate of the regression constant <code>β0,</code> b1 is the estimate of <code>β1</code> and x1 is the sample data for the independent variable. \n",
    "___\n",
    "What is the linear regression do ?\n",
    "\n",
    "1. The goal with linear regression is minimize the vertical distance between all the data points and our line.\n",
    "2. So in determining the best line, we are attemping to minimize the distance between all the points and their distance to our line.\n",
    "\n",
    "How do we decide which line is the best fitting one ?\n",
    "1. Use the least squares method, which is fitted by minimizing the sum of squares of the residuals.\n",
    "2. The residuals for an observation is the difference between the observation(the y value) and the fitted line."
   ]
  }
 ],
 "metadata": {
  "kernelspec": {
   "display_name": "Python 3",
   "language": "python",
   "name": "python3"
  },
  "language_info": {
   "codemirror_mode": {
    "name": "ipython",
    "version": 3
   },
   "file_extension": ".py",
   "mimetype": "text/x-python",
   "name": "python",
   "nbconvert_exporter": "python",
   "pygments_lexer": "ipython3",
   "version": "3.7.4"
  }
 },
 "nbformat": 4,
 "nbformat_minor": 2
}
