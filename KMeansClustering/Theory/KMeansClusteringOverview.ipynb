{
 "cells": [
  {
   "cell_type": "markdown",
   "metadata": {},
   "source": [
    "# K Means Clustering"
   ]
  },
  {
   "cell_type": "markdown",
   "metadata": {},
   "source": [
    "K Means Clustering algorithm which allows us to cluster unlabel data and unsupervised machine learning algorithm. \n",
    "___\n",
    "#### What is typical clustering problem ?\n",
    "\n",
    "* Cluster Similar Documents.\n",
    "* Cluster Customers based on their Features.\n",
    "* Market Segmantation.\n",
    "* Identify similar physical groups.\n",
    "___\n",
    "#### What is the K Means Clustering do ?\n",
    "\n",
    "1. K Means Clustering is unsurpervised learning algorithm meaning it takes an unlabeled data and it is goint to attempt to group similar clusters together in this data.\n",
    "___\n",
    "#### What is K Means Clustering over goal ?\n",
    "\n",
    "The over goal is to divide data into distinct groups such that observations within each group are similar.\n",
    "___\n",
    "#### How is the K Means Clustering algorithm work ?\n",
    "\n",
    "1. Choose a number of clusters 'K'.\n",
    "2. Randomly assign each point to a cluster.\n",
    "3. Until clusters stop changing, repeat the follow:\n",
    "\n",
    "    * For each cluster, compute the cluster centroid by taking the mean vector of points in the cluster, initially the centroid are almost overlapping, because the initial cluster assignments were random)\n",
    "    * Assign each data point to the cluster for which the centroid is the closet.\n",
    "___\n",
    "#### How to choose a K value ?\n",
    "\n",
    "There is no easy answer of choosing a 'best' K value, one way is the elbow method:\n",
    "\n",
    "1. First of all, compute the sum of squared error(SSE) for some values of K (for example 2,4,6,8 etc).\n",
    "2. The SSE is defined as the sum of the squared distance between each membrt of the cluster and its centroid.\n",
    "3. Whem plot K against the SSE, you will see that the error decreases as K gets larger, this is because when the number of clusters increase, they should be smaller, so distortion is alse smaller."
   ]
  },
  {
   "cell_type": "code",
   "execution_count": null,
   "metadata": {},
   "outputs": [],
   "source": []
  }
 ],
 "metadata": {
  "kernelspec": {
   "display_name": "Python 3",
   "language": "python",
   "name": "python3"
  },
  "language_info": {
   "codemirror_mode": {
    "name": "ipython",
    "version": 3
   },
   "file_extension": ".py",
   "mimetype": "text/x-python",
   "name": "python",
   "nbconvert_exporter": "python",
   "pygments_lexer": "ipython3",
   "version": "3.7.4"
  }
 },
 "nbformat": 4,
 "nbformat_minor": 2
}
