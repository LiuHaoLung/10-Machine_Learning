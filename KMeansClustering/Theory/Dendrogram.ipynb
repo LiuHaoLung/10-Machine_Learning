{
 "cells": [
  {
   "cell_type": "markdown",
   "metadata": {},
   "source": [
    "# Dendrogram"
   ]
  },
  {
   "cell_type": "markdown",
   "metadata": {},
   "source": [
    "Pros                |Cons\n",
    "---                 |---\n",
    "Hierarchical clustering shows all the possible linkages between clusters|Scalability\n",
    "It can understand the data much much better|-\n",
    "No need to preset the number of clusters(like with K-means)|-\n",
    "Many methods to perform hierarchical clustering, the famous of which is the ward method|-\n",
    "\n",
    "If there are 1000 observations and the dendrogram is extremely hard to be examined and it is extremely computationally expensive, the more observations there are, the slower it gets."
   ]
  },
  {
   "cell_type": "code",
   "execution_count": null,
   "metadata": {},
   "outputs": [],
   "source": []
  }
 ],
 "metadata": {
  "kernelspec": {
   "display_name": "Python 3",
   "language": "python",
   "name": "python3"
  },
  "language_info": {
   "codemirror_mode": {
    "name": "ipython",
    "version": 3
   },
   "file_extension": ".py",
   "mimetype": "text/x-python",
   "name": "python",
   "nbconvert_exporter": "python",
   "pygments_lexer": "ipython3",
   "version": "3.7.4"
  }
 },
 "nbformat": 4,
 "nbformat_minor": 2
}
