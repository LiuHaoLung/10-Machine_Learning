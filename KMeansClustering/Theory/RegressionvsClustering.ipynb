{
 "cells": [
  {
   "cell_type": "markdown",
   "metadata": {},
   "source": [
    "# Regression vs Clustering"
   ]
  },
  {
   "cell_type": "markdown",
   "metadata": {},
   "source": [
    "Example for the situation, there are four clustering, A represents small reasonably priced apartments, B represents small expensive apartments, C represents big cheap apartments, D represents big reasonably priced apartments, all else equal.\n",
    "\n",
    "Small apartments would be cheaper and big apartments would be more expensive, maybe the rip offs were representing apartments in the city center while the bargins apartments in the suburbs.\n",
    "\n",
    "If separate them from the rest, we will be left with point A small reasonably priced apartments and point D big reasonably priced apartments and it is regression, that's how different statistical methods communicate with each other.\n",
    "\n",
    "Clustering in this case can help us identify omitted variavble bias, so in this situation it can think about clustering as a method for exploring the data and realizing that one or more significant variables have not been included in the analysis, so instead of predicting price based solely on size, we may need to include location to get a better prediction."
   ]
  },
  {
   "cell_type": "code",
   "execution_count": null,
   "metadata": {},
   "outputs": [],
   "source": []
  }
 ],
 "metadata": {
  "kernelspec": {
   "display_name": "Python 3",
   "language": "python",
   "name": "python3"
  },
  "language_info": {
   "codemirror_mode": {
    "name": "ipython",
    "version": 3
   },
   "file_extension": ".py",
   "mimetype": "text/x-python",
   "name": "python",
   "nbconvert_exporter": "python",
   "pygments_lexer": "ipython3",
   "version": "3.7.4"
  }
 },
 "nbformat": 4,
 "nbformat_minor": 2
}
