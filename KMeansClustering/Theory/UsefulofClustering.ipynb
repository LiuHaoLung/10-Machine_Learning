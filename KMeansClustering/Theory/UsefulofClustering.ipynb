{
 "cells": [
  {
   "cell_type": "markdown",
   "metadata": {},
   "source": [
    "# Useful of Clustering"
   ]
  },
  {
   "cell_type": "markdown",
   "metadata": {},
   "source": [
    "#### Types of analysis\n",
    "\n",
    "* Exploratory:\n",
    "\n",
    "\n",
    "    * Get acquainted with the data.\n",
    "    * Search for patterns.\n",
    "    * Determine what methods maybe useful.\n",
    "    * Techniques such as data visualization, descriptive statistics and clustering.\n",
    "\n",
    "\n",
    "* Confirmatory and Explanatory, there is no strict definition, but either way they are different from exploratory analysis:\n",
    "\n",
    "\n",
    "    * Explain a phenomenon.\n",
    "    * Confirm a hypothesis.\n",
    "    * Validate previous research.\n",
    "    * Normally use hypothesis testing and regression analysis.\n",
    "\n",
    "___\n",
    "\n",
    "#### Clustering\n",
    "\n",
    "Clustering can be used for all types of analysis, but most commonly it is used for exploratory analysis, to elaborate the market segmentation is a prime example for exploratory.\n",
    "\n",
    "Clustering can also be used to comfirmation of past beliefs, maybe knew the different clusters and just wanted to assign each observation to a different cluster, that is rarely the case though, as classification is a much more precise technique to deal with that, like logistic regression.\n",
    "\n",
    "The big advantage of clustering in this example would be that when the market segments are changing fundamentally, a clustering solution may show that the cluster is no longer look in the same way, thus the market has changed.\n",
    "___\n",
    "\n",
    "#### The example for market segmentation\n",
    "\n",
    "In this example, the cluster are Alienated, Supporters, Fans and the Roamers, when designing the strategy of the company, we ultimately want to get as many people as possible to be fans, we want the clients to be both satisfied and loyal.\n",
    "\n",
    "In order to turn the supporters into fans, it must increase their shopping satisfaction, they maybe loyal, maybe yes, but they are as close to become fans as becoming alienated, if we don't address their feedback we may lose them as clients, therefore we must increase their customer satisfaction by taking action stesp.\n",
    "\n",
    "So if the supporters in this example don't like waiting in long queues to pay, the shop must get more cashiers or optimize the process in some other way.\n",
    "\n",
    "That it is quite possible that by increasing the customer satisfaction, the supporters may transition to fans, but also some people from the alienated cluster may move to the roamers one, as addressing the same feature.\n",
    "\n",
    "The roamers are satisfied but not loyal, in order to get them to come more often, it may introduce loyalty programs, examples are discount vouchers, loyalty cards and raffles and so on.\n",
    "\n",
    "This may encourage the alienated cluster to become more loyal, not necessarily making them more satisfied, putting them in the supporters group.\n",
    "\n",
    "Finally it doesn't really make sense to address the alienated cluster first, as they are too far away from the fans, by default they are not likely to even enter shop as they are already dissatisfied and disloyal.\n",
    "\n",
    "Clients encountered targeted ads on the internet, this strategy is to gather as much data about fans clusters as possible and then find people of similar age, interests, income and so on, clustering is one of the methods that can be used for this."
   ]
  },
  {
   "cell_type": "code",
   "execution_count": null,
   "metadata": {},
   "outputs": [],
   "source": []
  }
 ],
 "metadata": {
  "kernelspec": {
   "display_name": "Python 3",
   "language": "python",
   "name": "python3"
  },
  "language_info": {
   "codemirror_mode": {
    "name": "ipython",
    "version": 3
   },
   "file_extension": ".py",
   "mimetype": "text/x-python",
   "name": "python",
   "nbconvert_exporter": "python",
   "pygments_lexer": "ipython3",
   "version": "3.7.4"
  }
 },
 "nbformat": 4,
 "nbformat_minor": 2
}
