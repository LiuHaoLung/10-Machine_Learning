{
 "cells": [
  {
   "cell_type": "markdown",
   "metadata": {},
   "source": [
    "# Types of Clustering"
   ]
  },
  {
   "cell_type": "markdown",
   "metadata": {},
   "source": [
    "Clustering analysis was developed by anthropologists aiming to explain the origin of human beings, later is was adopted by psychology, intelligence and other areas\n",
    "\n",
    "Nowadays, there are two broad types of clustering, flat and hierarchical.\n",
    "\n",
    "K Means is a flat method in the sense that there is no hierarchical but rather we choose the number of clusters and the magic happens.\n",
    "___\n",
    "\n",
    "Historically hierarchical clustering was developed first, so it make sense to get acquainted with it.\n",
    "\n",
    "The example of clustering with hierarchy is taxonomy of the animal kingdom, for instance there is the general term animal, the sub clusters are fish mammals and birds ..., there are birds which can fly and those that can't, we can continue in this way until we reach dogs and cats, even then it can divide dogs and cats into different breeds, moreover some breeds have some sub breeds, so this is called hierarchy of clusters.\n",
    "\n",
    "There are two types of hierarchical clustering, agglomerative(bottom-up) and divisive(top-down).\n",
    "\n",
    "Agglomerative                   |Divisive\n",
    "---                             |---\n",
    "It start from different dog and cat breeds, cluster them into dogs and cats respectively and then we continue pairing up species until we reach the animal cluster.                               |It start from a situation where all observations are in the same cluster, like dinosaurs, then split this big cluster into two small ones, then we continue with 3, 4, 5 and so on until each observation is that separate cluster, however in order to find the best split, it must explore all possibilities at each step, therefore faster methods have been developed such as K Means, with K Means it can simulate this divisive technique and that's what we did with the elbow method.\n",
    "\n",
    "The agglomerative and divisive clustering should reach similar results, but agglomerative is much easier to solve mathematically, this is also the other clustering method we will explore, a agglomerative of hierarchical clustering, in order to perform agglomerative of hierarchical clustering, it start with each case being its own cluster(total N clusters), second using some similarity measure like Euclidean distance, it can group the two closet clusters together(total N-1 clusters), then repeat this procedure until all observations are in a single cluster, the name of this type of graph is a dendrogram, a line starts from each observation, then the two closet clusters are combined, then other two and so on, until it left with a single cluster, note that all cluster solutions are nested inside the dendrogram."
   ]
  },
  {
   "cell_type": "code",
   "execution_count": null,
   "metadata": {},
   "outputs": [],
   "source": []
  }
 ],
 "metadata": {
  "kernelspec": {
   "display_name": "Python 3",
   "language": "python",
   "name": "python3"
  },
  "language_info": {
   "codemirror_mode": {
    "name": "ipython",
    "version": 3
   },
   "file_extension": ".py",
   "mimetype": "text/x-python",
   "name": "python",
   "nbconvert_exporter": "python",
   "pygments_lexer": "ipython3",
   "version": "3.7.4"
  }
 },
 "nbformat": 4,
 "nbformat_minor": 2
}
