{
 "cells": [
  {
   "cell_type": "markdown",
   "metadata": {},
   "source": [
    "# Pros and Cons"
   ]
  },
  {
   "cell_type": "markdown",
   "metadata": {},
   "source": [
    "Pros                      |Cons                         |Remedies\n",
    "---                       |---                          |---\n",
    "Simple to understand      |Need to pick K               |The elbow method\n",
    "Fast to cluster           |Sensitive to initialization  |K-means++\n",
    "Widely available          |Sensitive to outliers        |Remove the outliers\n",
    "Easy to implement         |Produces spherical solutions |-\n",
    "Always yields a result    |Standardization              |?\n",
    "\n",
    "___\n",
    "\n",
    "#### K-means ++\n",
    "\n",
    "K-means++, the idea is that a preliminary iterative algorithm is ran prior to k means to determine the most appropriate seeds for the clustering itself.\n",
    "___\n",
    "\n",
    "#### Sensitive to outliers\n",
    "\n",
    "If there is a single point that is too far away from the rest, it will always be placed in it's own onepoint cluster.\n",
    "___\n",
    "\n",
    "#### Produces spherical solutions\n",
    "\n",
    "This means that on 2D plane that we have seen, we would more often see clusters that look like circles(spherical) rather than elliptic shapes.\n",
    "\n",
    "The reason for that is we are using Euclidean distance form the centroid, this is also why outliers are such a big issue for a k means.\n",
    "___\n",
    "\n",
    "#### Standardization\n",
    "\n",
    "Here is a example for to standardize or not to standardize, the x axis shows the size while the y axis shows the price.\n",
    "\n",
    "There are 4 observations, A is (500,50000), B is (500,100000), C is (1200,50000), D is (1200,100000), if it was to create two clusters, they are likely to be AB and CD.\n",
    "\n",
    "Now, if standardize the x axis, the x axis becomes either -1 or 1, so the A becomes (-1,50000), B becomes (-1,100000), C becomes (1,50000), D becomes (1,100000), if it was to create two clusters, they are likely to be AC and BD.\n",
    "\n",
    "Finally let's also standardize the y axis, the y axis becomes either -1 or 1, so with the standardize x and y axis, it becomes a perfect square, A becomes (-1,-1), B becomes (-1,1), C becomes (1,-1), D becomes (1,1), so they have no way of deciding if the clusters should be AB and CD, or AC and BD.\n",
    "\n",
    "So it went from one solution though a totally different one to no solution whatsoever.\n",
    "\n",
    "The ultimate aim of standardization is to reduce the weight of higher numbers and increase that of lower ones. \n",
    "\n",
    "So from the begin, if the x and y axis has the same scale, from 0 to 100000, in this case the K Means algorithm would immediately cluster AC and BD, just because the scale of price was so different compared to size in terms of mere numbers, so scale matters.\n",
    "\n",
    "Finally, the last case in s square because there were only two values for each axis, logically every rectangle on a graph after being standardized turns into a square, so no matter how I chose the axis or how far off they were from each other, as long as they were in the shape of rectangle, the standardized output would have been a square, that said by standardizing both axis, we remove the weight introduced by the high price values.\n",
    "\n",
    "Sum up, if we don't standardize, the range with the values will serve as weights for each variable, price had much higher values, which would indicate to K Means that price is more important, these would lead to cluster's based on price AC and BD, the economy cluster(AC) and luxury cluster(BD) noted the clustering would barely, if at all, care about size, so if we don't standardize, we are not taking advantage of the size data whatsoever.\n",
    "\n",
    "Standardization is trying to put all variables on equal footing, in some cases we don't need to do that, we know that one variables is inherently more important than another, then standardization shouldn't be used, in this case in one of those, because most people are affected by the price much more than the size."
   ]
  },
  {
   "cell_type": "code",
   "execution_count": null,
   "metadata": {},
   "outputs": [],
   "source": []
  }
 ],
 "metadata": {
  "kernelspec": {
   "display_name": "Python 3",
   "language": "python",
   "name": "python3"
  },
  "language_info": {
   "codemirror_mode": {
    "name": "ipython",
    "version": 3
   },
   "file_extension": ".py",
   "mimetype": "text/x-python",
   "name": "python",
   "nbconvert_exporter": "python",
   "pygments_lexer": "ipython3",
   "version": "3.7.4"
  }
 },
 "nbformat": 4,
 "nbformat_minor": 2
}
