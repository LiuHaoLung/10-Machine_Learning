{
 "cells": [
  {
   "cell_type": "markdown",
   "metadata": {},
   "source": [
    "# K Nearest Neighbors"
   ]
  },
  {
   "cell_type": "markdown",
   "metadata": {},
   "source": [
    "Discuss the K Nearest Neighbors and how to use it for classfication problems.\n",
    "___\n",
    "#### What is the K nearest neighbors do ?\n",
    "\n",
    "1. It is trying to classify the new data point, and it is decide the neighbor is.\n",
    "___\n",
    "#### How is K nearest neighbors model methods ?\n",
    "\n",
    "Setp 1. Training Algorithm：\n",
    "\n",
    "    Store all the data.\n",
    "\n",
    "Step 2. Prediction Algorithm：\n",
    "    \n",
    "    1. x indicating that particular new data point.\n",
    "    2. Calculate the distance from x to all points in this data.\n",
    "    3. Sort the points in this data by increasing distance from x.\n",
    "    4. Predict the majority label of the 'k' closet points(k being the number).\n",
    "    5. Choosing a k will affect what class a new point is assigned to.\n",
    "    \n",
    "Example：\n",
    "\n",
    "    1. In a circle that have one class A point and two class B points around the predict data.\n",
    "    2. The k = 3, that means near the predict data to find three points.\n",
    "    3. There are one class A and two class B points are near the predict data, so this predict data will be predicted to class B.\n",
    "    4. Because the class B points is more than class A point, so the predict data will be predicted to the class B.\n",
    "___\n",
    "#### What is K nearest neighbors model pros & cons?\n",
    "\n",
    "**Pros**\n",
    "1. Very simple.\n",
    "2. Training is trivial.\n",
    "3. Works with any number of classes.\n",
    "4. Easy to add more data.\n",
    "5. Few parameters(K and Distance Metric).\n",
    "\n",
    "**Cons**\n",
    "1. High prediction cost(worse for large data sets)：Because it have to sort the entire large data sets.\n",
    "2. Not good with high dimensional data：It is going to throw off ability to measure distances in various dimensions.\n",
    "3. Categorical features don't work well."
   ]
  },
  {
   "cell_type": "code",
   "execution_count": null,
   "metadata": {},
   "outputs": [],
   "source": []
  }
 ],
 "metadata": {
  "kernelspec": {
   "display_name": "Python 3",
   "language": "python",
   "name": "python3"
  },
  "language_info": {
   "codemirror_mode": {
    "name": "ipython",
    "version": 3
   },
   "file_extension": ".py",
   "mimetype": "text/x-python",
   "name": "python",
   "nbconvert_exporter": "python",
   "pygments_lexer": "ipython3",
   "version": "3.7.4"
  }
 },
 "nbformat": 4,
 "nbformat_minor": 2
}
